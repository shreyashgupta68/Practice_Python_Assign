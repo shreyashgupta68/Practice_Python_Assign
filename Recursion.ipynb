{
 "cells": [
  {
   "cell_type": "markdown",
   "id": "89e7af73",
   "metadata": {},
   "source": [
    "Write a recursive function to calculate sum of square of first n natural number."
   ]
  },
  {
   "cell_type": "code",
   "execution_count": 3,
   "id": "6903609e",
   "metadata": {},
   "outputs": [
    {
     "data": {
      "text/plain": [
       "30"
      ]
     },
     "execution_count": 3,
     "metadata": {},
     "output_type": "execute_result"
    }
   ],
   "source": [
    "def sq(n):\n",
    "    if n == 1:\n",
    "        return 1\n",
    "    return n*n + sq(n-1)\n",
    "sq(4)"
   ]
  },
  {
   "cell_type": "markdown",
   "id": "de4efc23",
   "metadata": {},
   "source": [
    "Write a recursive function to print first n natural number."
   ]
  },
  {
   "cell_type": "code",
   "execution_count": 9,
   "id": "d160c97d",
   "metadata": {},
   "outputs": [
    {
     "name": "stdout",
     "output_type": "stream",
     "text": [
      "1\n",
      "2\n",
      "3\n",
      "4\n"
     ]
    }
   ],
   "source": [
    "def pr(n):\n",
    "    if n > 0:\n",
    "        pr(n-1)\n",
    "        print(n)\n",
    "pr(4)\n"
   ]
  },
  {
   "cell_type": "code",
   "execution_count": 5,
   "id": "5852fb07",
   "metadata": {},
   "outputs": [
    {
     "name": "stdout",
     "output_type": "stream",
     "text": [
      "1\n",
      "2\n",
      "3\n",
      "4\n"
     ]
    }
   ],
   "source": [
    "def f(i,n):\n",
    "    if i > n:\n",
    "        return\n",
    "    print(i)\n",
    "    f(i+1,n)\n",
    "f(1,4)"
   ]
  },
  {
   "cell_type": "markdown",
   "id": "abc17fd6",
   "metadata": {},
   "source": [
    "Write a recursive python function to print first N natural numbers in reverse order"
   ]
  },
  {
   "cell_type": "code",
   "execution_count": 17,
   "id": "a94940ff",
   "metadata": {
    "scrolled": true
   },
   "outputs": [
    {
     "name": "stdout",
     "output_type": "stream",
     "text": [
      "4\n",
      "3\n",
      "2\n",
      "1\n"
     ]
    }
   ],
   "source": [
    "def rev(n):\n",
    "    if n > 0:\n",
    "        print(n)\n",
    "        rev(n-1)\n",
    "rev(4)"
   ]
  },
  {
   "cell_type": "markdown",
   "id": "f7bc1cd0",
   "metadata": {},
   "source": [
    "Write a recursive python function to print first N odd natural numbers"
   ]
  },
  {
   "cell_type": "code",
   "execution_count": 20,
   "id": "e9d82df6",
   "metadata": {},
   "outputs": [
    {
     "name": "stdout",
     "output_type": "stream",
     "text": [
      "1\n",
      "3\n",
      "5\n",
      "7\n",
      "9\n",
      "11\n"
     ]
    }
   ],
   "source": [
    "def printodd(n):\n",
    "    if n > 0:\n",
    "        printodd(n-1)\n",
    "        print(2*n-1)\n",
    "\n",
    "printodd(6)"
   ]
  },
  {
   "cell_type": "markdown",
   "id": "91871245",
   "metadata": {},
   "source": [
    "Write a recursive python function to print first N odd natural numbers in reverse order."
   ]
  },
  {
   "cell_type": "code",
   "execution_count": 21,
   "id": "bf190c60",
   "metadata": {},
   "outputs": [
    {
     "name": "stdout",
     "output_type": "stream",
     "text": [
      "11\n",
      "9\n",
      "7\n",
      "5\n",
      "3\n",
      "1\n"
     ]
    }
   ],
   "source": [
    "def printOddReverse(n):\n",
    "    if n > 0:\n",
    "        print(2*n-1)\n",
    "        printOddReverse(n-1)\n",
    "printOddReverse(6)"
   ]
  },
  {
   "cell_type": "markdown",
   "id": "512014fc",
   "metadata": {},
   "source": [
    "Write a recursive python function to print first N even natural numbers."
   ]
  },
  {
   "cell_type": "code",
   "execution_count": 15,
   "id": "7d558915",
   "metadata": {},
   "outputs": [
    {
     "name": "stdout",
     "output_type": "stream",
     "text": [
      "2\n",
      "4\n",
      "6\n",
      "8\n",
      "10\n",
      "12\n"
     ]
    }
   ],
   "source": [
    "def printEven(n):\n",
    "    if n > 0:\n",
    "        printEven(n-1)\n",
    "        prinat(2*n)\n",
    "printEven(6)"
   ]
  },
  {
   "cell_type": "markdown",
   "id": "74aba96e",
   "metadata": {},
   "source": [
    "Write a recursive python function to print first N even natural numbers reverse order."
   ]
  },
  {
   "cell_type": "code",
   "execution_count": 16,
   "id": "6a444d6c",
   "metadata": {},
   "outputs": [
    {
     "name": "stdout",
     "output_type": "stream",
     "text": [
      "12\n",
      "10\n",
      "8\n",
      "6\n",
      "4\n",
      "2\n"
     ]
    }
   ],
   "source": [
    "def printEven(n):\n",
    "    if n > 0:\n",
    "        print(2*n)\n",
    "        printEven(n-1)\n",
    "\n",
    "printEven(6)"
   ]
  },
  {
   "cell_type": "markdown",
   "id": "5eb6878c",
   "metadata": {},
   "source": [
    "Write a recursive python function to print squares of first N natural numbers"
   ]
  },
  {
   "cell_type": "code",
   "execution_count": 23,
   "id": "c96616d6",
   "metadata": {},
   "outputs": [
    {
     "name": "stdout",
     "output_type": "stream",
     "text": [
      "1\n",
      "4\n",
      "9\n",
      "16\n",
      "25\n",
      "36\n"
     ]
    }
   ],
   "source": [
    "def printSquare(n):\n",
    "    if n > 0:\n",
    "        printSquare(n-1)\n",
    "        print(n**2)\n",
    "printSquare(6)"
   ]
  },
  {
   "cell_type": "markdown",
   "id": "1a0147c5",
   "metadata": {},
   "source": [
    "Write a recursive python function to print cube of first N natural numbers"
   ]
  },
  {
   "cell_type": "code",
   "execution_count": 25,
   "id": "4ed4724b",
   "metadata": {},
   "outputs": [
    {
     "name": "stdout",
     "output_type": "stream",
     "text": [
      "1\n",
      "8\n",
      "27\n",
      "64\n",
      "125\n",
      "216\n"
     ]
    }
   ],
   "source": [
    "def printCube(n):\n",
    "    if n > 0:\n",
    "        printSquare(n-1)\n",
    "        print(n**3)\n",
    "printCube(6)"
   ]
  },
  {
   "cell_type": "markdown",
   "id": "192fe400",
   "metadata": {},
   "source": [
    "Write a recursive python function to print first N multiples of a given number."
   ]
  },
  {
   "cell_type": "code",
   "execution_count": 30,
   "id": "c0626b25",
   "metadata": {},
   "outputs": [
    {
     "name": "stdout",
     "output_type": "stream",
     "text": [
      "5\n",
      "10\n",
      "15\n",
      "20\n",
      "25\n"
     ]
    }
   ],
   "source": [
    "def multi(n,i=1):\n",
    "    if i > n:\n",
    "        return\n",
    "    print(i*n)\n",
    "    multi(n,i+1)\n",
    "   \n",
    "multi(5)"
   ]
  },
  {
   "cell_type": "markdown",
   "id": "1cbab1ee",
   "metadata": {},
   "source": [
    "Write a recursive python function to print a number in reverse order."
   ]
  },
  {
   "cell_type": "code",
   "execution_count": null,
   "id": "1536d9fb",
   "metadata": {},
   "outputs": [],
   "source": [
    "def rev(n):\n",
    "    if n > 0:\n",
    "        "
   ]
  }
 ],
 "metadata": {
  "kernelspec": {
   "display_name": "Python 3 (ipykernel)",
   "language": "python",
   "name": "python3"
  },
  "language_info": {
   "codemirror_mode": {
    "name": "ipython",
    "version": 3
   },
   "file_extension": ".py",
   "mimetype": "text/x-python",
   "name": "python",
   "nbconvert_exporter": "python",
   "pygments_lexer": "ipython3",
   "version": "3.10.5"
  }
 },
 "nbformat": 4,
 "nbformat_minor": 5
}
