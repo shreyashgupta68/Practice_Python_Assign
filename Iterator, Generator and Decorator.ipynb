{
 "cells": [
  {
   "cell_type": "markdown",
   "id": "0caae8ec",
   "metadata": {},
   "source": [
    "1. Use iter and next method to access all the elements of a given set using while loop"
   ]
  },
  {
   "cell_type": "code",
   "execution_count": 2,
   "id": "e77c5d9d",
   "metadata": {},
   "outputs": [
    {
     "name": "stdout",
     "output_type": "stream",
     "text": [
      "1\n",
      "2\n",
      "3\n",
      "4\n",
      "5\n"
     ]
    }
   ],
   "source": [
    "a = set([1,2,3,4,5])\n",
    "it = iter(a) #iterable object \"it\"\n",
    "while(True):\n",
    "    try:\n",
    "        print(next(it)) #next object.\n",
    "    except StopIteration:\n",
    "        break"
   ]
  },
  {
   "cell_type": "markdown",
   "id": "ff1d59f1",
   "metadata": {},
   "source": [
    "2. Create a generator to produce first n odd natural numbers"
   ]
  },
  {
   "cell_type": "code",
   "execution_count": 3,
   "id": "5cc5563e",
   "metadata": {},
   "outputs": [
    {
     "name": "stdout",
     "output_type": "stream",
     "text": [
      "1\n",
      "3\n",
      "5\n"
     ]
    }
   ],
   "source": [
    "def first_odd(n):\n",
    "    for i in range(1,n+1):\n",
    "        if i % 2 != 0:\n",
    "            yield i\n",
    "            \n",
    "for e in first_odd(5): # we don't have to used the exception handling in for loop but in while loop we have to do it bcz iteraor object is internally present in the for loop.\n",
    "    print(e)"
   ]
  },
  {
   "cell_type": "markdown",
   "id": "ccb52066",
   "metadata": {},
   "source": [
    "Create a generator to produce first n even natural numbers"
   ]
  },
  {
   "cell_type": "code",
   "execution_count": 4,
   "id": "6be31f4e",
   "metadata": {},
   "outputs": [
    {
     "name": "stdout",
     "output_type": "stream",
     "text": [
      "2\n",
      "4\n"
     ]
    }
   ],
   "source": [
    "def first_even(n):\n",
    "    for i in range(1,n+1):\n",
    "        if i % 2 == 0:\n",
    "            yield i\n",
    "            \n",
    "for e in first_even(5): # we don't have to used the exception handling in for loop but in while loop we have to do it bcz iteraor object is internally present in the for loop.\n",
    "    print(e)"
   ]
  },
  {
   "cell_type": "markdown",
   "id": "7e02c2b1",
   "metadata": {},
   "source": [
    "Create a generator to produce squares of first N natural numbers"
   ]
  },
  {
   "cell_type": "code",
   "execution_count": 10,
   "id": "b881c436",
   "metadata": {},
   "outputs": [
    {
     "name": "stdout",
     "output_type": "stream",
     "text": [
      "Square of first n natural number 1\n",
      "Square of first n natural number 4\n",
      "Square of first n natural number 9\n",
      "Square of first n natural number 16\n",
      "Square of first n natural number 25\n"
     ]
    }
   ],
   "source": [
    "def first_Squ(n):\n",
    "    for i in range(1,n+1):\n",
    "            yield (i ** 2)\n",
    "            \n",
    "for e in first_Squ(5): # we don't have to used the exception handling in for loop but in while loop we have to do it bcz iteraor object is internally present in the for loop.\n",
    "    print(\"Square of first n natural number\",e)"
   ]
  },
  {
   "cell_type": "markdown",
   "id": "e9b081f0",
   "metadata": {},
   "source": [
    "Create a generator to produce first n terms of Fibonacci series"
   ]
  },
  {
   "cell_type": "code",
   "execution_count": 14,
   "id": "d3964729",
   "metadata": {},
   "outputs": [
    {
     "name": "stdout",
     "output_type": "stream",
     "text": [
      "0\n",
      "1\n",
      "1\n",
      "2\n",
      "3\n",
      "5\n",
      "8\n"
     ]
    }
   ],
   "source": [
    "def first_Fibonacci(n):\n",
    "    first = 0\n",
    "    second = 1\n",
    "    print(first)\n",
    "    print(second)\n",
    "    for i in range(2,n):\n",
    "        result = first + second\n",
    "        first = second\n",
    "        second = result\n",
    "        yield result\n",
    "\n",
    "for e in first_Fibonacci(7):\n",
    "    print(e)\n",
    "    "
   ]
  },
  {
   "cell_type": "markdown",
   "id": "b6f0d7a3",
   "metadata": {},
   "source": [
    "Create a generator to produce first n prime numbers"
   ]
  },
  {
   "cell_type": "code",
   "execution_count": 21,
   "id": "5cf7a791",
   "metadata": {},
   "outputs": [
    {
     "name": "stdout",
     "output_type": "stream",
     "text": [
      "2\n",
      "3\n",
      "4\n"
     ]
    }
   ],
   "source": [
    "def first_prime(n):\n",
    "    for i in range(2,n):\n",
    "        if n%i==0:\n",
    "            break\n",
    "        else:\n",
    "            yield i\n",
    "for i in first_prime(5):\n",
    "    print(i)"
   ]
  },
  {
   "cell_type": "markdown",
   "id": "9f64c472",
   "metadata": {},
   "source": [
    "Define a function which calculates HCF of two numbers. Define and apply a\n",
    "decorator to check whether two given numbers are co-prime or not."
   ]
  },
  {
   "cell_type": "code",
   "execution_count": 25,
   "id": "ca0ece4a",
   "metadata": {},
   "outputs": [
    {
     "name": "stdout",
     "output_type": "stream",
     "text": [
      "True\n"
     ]
    }
   ],
   "source": [
    "def gcd(p,q):\n",
    "# Create the gcd of two positive integers.\n",
    "    while q != 0:\n",
    "        p, q = q, p%q\n",
    "    return p\n",
    "def is_coprime(x, y):\n",
    "    yield gcd(x, y) == 1\n",
    "for e in is_coprime(17,13):\n",
    "    print(e)\n",
    "\n"
   ]
  },
  {
   "cell_type": "code",
   "execution_count": null,
   "id": "cb6a90b6",
   "metadata": {},
   "outputs": [],
   "source": []
  }
 ],
 "metadata": {
  "kernelspec": {
   "display_name": "Python 3 (ipykernel)",
   "language": "python",
   "name": "python3"
  },
  "language_info": {
   "codemirror_mode": {
    "name": "ipython",
    "version": 3
   },
   "file_extension": ".py",
   "mimetype": "text/x-python",
   "name": "python",
   "nbconvert_exporter": "python",
   "pygments_lexer": "ipython3",
   "version": "3.10.5"
  }
 },
 "nbformat": 4,
 "nbformat_minor": 5
}
