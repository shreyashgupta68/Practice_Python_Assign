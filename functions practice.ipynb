{
 "cells": [
  {
   "cell_type": "markdown",
   "id": "c46df392",
   "metadata": {},
   "source": [
    "Write a python program to create a simple function which prints “MySirG” ."
   ]
  },
  {
   "cell_type": "code",
   "execution_count": 1,
   "id": "25adfc99",
   "metadata": {},
   "outputs": [
    {
     "name": "stdout",
     "output_type": "stream",
     "text": [
      "MySirG\n"
     ]
    }
   ],
   "source": [
    "def print_name():\n",
    "    print(\"MySirG\")\n",
    "print_name()"
   ]
  },
  {
   "cell_type": "markdown",
   "id": "3a9249fb",
   "metadata": {},
   "source": [
    "Write a python program to create a function which expects two arguments and print\n",
    "them in the function body."
   ]
  },
  {
   "cell_type": "code",
   "execution_count": 2,
   "id": "a93215dc",
   "metadata": {},
   "outputs": [
    {
     "name": "stdout",
     "output_type": "stream",
     "text": [
      "10   20\n"
     ]
    }
   ],
   "source": [
    "def argu(a,b):\n",
    "    print(a,\" \",b)\n",
    "argu(10,20)"
   ]
  },
  {
   "cell_type": "markdown",
   "id": "e345b9af",
   "metadata": {},
   "source": [
    "Write a python program to create a function which expects an unknown number of\n",
    "arguments."
   ]
  },
  {
   "cell_type": "code",
   "execution_count": 3,
   "id": "a95f7bd1",
   "metadata": {},
   "outputs": [
    {
     "name": "stdout",
     "output_type": "stream",
     "text": [
      "(10, 20, 'a')\n"
     ]
    }
   ],
   "source": [
    "def unknown(*args):\n",
    "    print(args)\n",
    "unknown(10,20,\"a\")"
   ]
  },
  {
   "cell_type": "markdown",
   "id": "778f1950",
   "metadata": {},
   "source": [
    "Write a python program to create a function which expects kwargs arguments."
   ]
  },
  {
   "cell_type": "code",
   "execution_count": 4,
   "id": "7d5ed4c3",
   "metadata": {},
   "outputs": [
    {
     "name": "stdout",
     "output_type": "stream",
     "text": [
      "4 5 0\n"
     ]
    }
   ],
   "source": [
    "def kwargs(a, b=5,c=0):\n",
    "    print(a,b,c)\n",
    "kwargs(4)"
   ]
  },
  {
   "cell_type": "markdown",
   "id": "2a0b1696",
   "metadata": {},
   "source": [
    "Write a python program to create a function which expects a list as an argument."
   ]
  },
  {
   "cell_type": "code",
   "execution_count": 7,
   "id": "672d5fb4",
   "metadata": {},
   "outputs": [
    {
     "name": "stdout",
     "output_type": "stream",
     "text": [
      "[1, 23, 45]\n"
     ]
    }
   ],
   "source": [
    "def arg_list(a):\n",
    "    print(a)\n",
    "list_ = [1,23,45]\n",
    "arg_list(list_)"
   ]
  },
  {
   "cell_type": "markdown",
   "id": "ab9fc8aa",
   "metadata": {},
   "source": [
    "Write a python program to create a function that finds a maximum of four numbers."
   ]
  },
  {
   "cell_type": "code",
   "execution_count": null,
   "id": "088477fb",
   "metadata": {},
   "outputs": [],
   "source": [
    "def max_four(a,b,c,d):\n",
    "    if "
   ]
  },
  {
   "cell_type": "markdown",
   "id": "af0e8ac6",
   "metadata": {},
   "source": [
    "Write a python program to sum all the numbers in a list."
   ]
  },
  {
   "cell_type": "code",
   "execution_count": 6,
   "id": "051e2153",
   "metadata": {},
   "outputs": [
    {
     "name": "stdout",
     "output_type": "stream",
     "text": [
      " Sum of all the numbers in a list is 15\n"
     ]
    }
   ],
   "source": [
    "def sum_list(a):\n",
    "    sum = 0\n",
    "    for element in a:\n",
    "        sum += element\n",
    "    print(\" Sum of all the numbers in a list is\", sum)\n",
    "list_ = [1,2,3,4,5]\n",
    "sum_list(list_)"
   ]
  },
  {
   "cell_type": "markdown",
   "id": "fc32ee0f",
   "metadata": {},
   "source": [
    "Write a python program to multiply all the numbers in a list."
   ]
  },
  {
   "cell_type": "code",
   "execution_count": 9,
   "id": "1504e1f5",
   "metadata": {},
   "outputs": [
    {
     "name": "stdout",
     "output_type": "stream",
     "text": [
      " Sum of all the numbers in a list is 120\n"
     ]
    }
   ],
   "source": [
    "def mul_list(a):\n",
    "    sum = 1\n",
    "    for element in a:\n",
    "        sum *= element\n",
    "    print(\" Sum of all the numbers in a list is\", sum)\n",
    "list_ = [1,2,3,4,5]\n",
    "mul_list(list_)"
   ]
  },
  {
   "cell_type": "markdown",
   "id": "fc8a448b",
   "metadata": {},
   "source": [
    "Write a python program to create a function to check whether a number falls in a\n",
    "given range."
   ]
  },
  {
   "cell_type": "code",
   "execution_count": 12,
   "id": "39a14571",
   "metadata": {},
   "outputs": [
    {
     "name": "stdout",
     "output_type": "stream",
     "text": [
      " 5 is in the range\n"
     ]
    }
   ],
   "source": [
    "def test_range(n):\n",
    "    if n in range(3,9):\n",
    "        print( \" %s is in the range\"%str(n))\n",
    "    else :\n",
    "        print(\"The number is outside the given range.\")\n",
    "test_range(5)\n"
   ]
  },
  {
   "cell_type": "markdown",
   "id": "17f216f9",
   "metadata": {},
   "source": [
    "Write a python program to create a function to check whether a given number is even\n",
    "or odd."
   ]
  },
  {
   "cell_type": "code",
   "execution_count": 15,
   "id": "34659c04",
   "metadata": {},
   "outputs": [
    {
     "name": "stdout",
     "output_type": "stream",
     "text": [
      "Even\n"
     ]
    }
   ],
   "source": [
    "def even_odd(n):\n",
    "   print(\"Even\" if n%2==0 else \"Odd\") \n",
    "even_odd(6)"
   ]
  }
 ],
 "metadata": {
  "kernelspec": {
   "display_name": "Python 3 (ipykernel)",
   "language": "python",
   "name": "python3"
  },
  "language_info": {
   "codemirror_mode": {
    "name": "ipython",
    "version": 3
   },
   "file_extension": ".py",
   "mimetype": "text/x-python",
   "name": "python",
   "nbconvert_exporter": "python",
   "pygments_lexer": "ipython3",
   "version": "3.10.5"
  }
 },
 "nbformat": 4,
 "nbformat_minor": 5
}
