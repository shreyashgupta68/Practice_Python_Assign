{
 "cells": [
  {
   "cell_type": "markdown",
   "id": "db399753",
   "metadata": {},
   "source": [
    "Write a python program to create a function that takes a list and returns a new list\n",
    "with the original list's unique elements."
   ]
  },
  {
   "cell_type": "code",
   "execution_count": 9,
   "id": "f22963b0",
   "metadata": {},
   "outputs": [
    {
     "name": "stdout",
     "output_type": "stream",
     "text": [
      "[1, 2, 3]\n"
     ]
    }
   ],
   "source": [
    "def uniqu(a):\n",
    "    b = []\n",
    "    for i in a:\n",
    "        if i not in b:\n",
    "            b.append(i)\n",
    "    return b\n",
    "li = [1,2,2,3]\n",
    "print(uniqu(li))\n"
   ]
  },
  {
   "cell_type": "code",
   "execution_count": 8,
   "id": "6bc0ff46",
   "metadata": {},
   "outputs": [
    {
     "name": "stdout",
     "output_type": "stream",
     "text": [
      "[1, 2, 3, 4, 5, 54]\n"
     ]
    }
   ],
   "source": [
    "def uniqu(a):\n",
    "    b = set(a)\n",
    "    c= list(b)\n",
    "    return c\n",
    "li = [1,2,2,3,4,5,5,54,3]\n",
    "print(uniqu(li))"
   ]
  },
  {
   "cell_type": "markdown",
   "id": "c4437140",
   "metadata": {},
   "source": [
    "Write a python program to create a function that takes a number as a parameter and\n",
    "checks if the number is prime or not."
   ]
  },
  {
   "cell_type": "code",
   "execution_count": null,
   "id": "8f9f80c3",
   "metadata": {},
   "outputs": [],
   "source": [
    "def isprime(n):\n",
    "    d = "
   ]
  },
  {
   "cell_type": "markdown",
   "id": "67af7155",
   "metadata": {},
   "source": [
    "Write a python program to create a function that prints the even numbers from a\n",
    "given list.\n",
    "Sample List : [1, 2, 3, 4, 5, 6, 7, 8, 9]"
   ]
  },
  {
   "cell_type": "code",
   "execution_count": 11,
   "id": "4a62fdfb",
   "metadata": {},
   "outputs": [
    {
     "name": "stdout",
     "output_type": "stream",
     "text": [
      "2 4 6 8 "
     ]
    }
   ],
   "source": [
    "def pri_even(a):\n",
    "    for i in a:\n",
    "         if i % 2 == 0:\n",
    "                print(i, end = \" \")\n",
    "li = [1, 2, 3, 4, 5, 6, 7, 8, 9]\n",
    "pri_even(li)"
   ]
  },
  {
   "cell_type": "markdown",
   "id": "93db57c5",
   "metadata": {},
   "source": [
    "Write a python program to create a function that checks whether a passed string is\n",
    "palindrome or not."
   ]
  },
  {
   "cell_type": "code",
   "execution_count": 14,
   "id": "b1bc25c2",
   "metadata": {},
   "outputs": [
    {
     "name": "stdout",
     "output_type": "stream",
     "text": [
      "Not Palindrome\n"
     ]
    }
   ],
   "source": [
    "def ispalindrome(strin):\n",
    "    if strin == strin[::-1]:\n",
    "        print(\"Palindrome\")\n",
    "    else:\n",
    "        print(\"Not Palindrome\")\n",
    "ispalindrome(\"dady\")"
   ]
  },
  {
   "cell_type": "markdown",
   "id": "8d5738d5",
   "metadata": {},
   "source": [
    "Write a python program to create a function to find the Min of three numbers."
   ]
  },
  {
   "cell_type": "code",
   "execution_count": 17,
   "id": "659e42cb",
   "metadata": {},
   "outputs": [
    {
     "name": "stdout",
     "output_type": "stream",
     "text": [
      "2\n"
     ]
    }
   ],
   "source": [
    "def min_three(a,b,c):\n",
    "    if a<b and a<c:\n",
    "        print(a)\n",
    "    elif b<a and b<c:\n",
    "        print(b)\n",
    "    else:\n",
    "        print(c)\n",
    "min_three(12,34,2)"
   ]
  },
  {
   "cell_type": "markdown",
   "id": "e4d37a26",
   "metadata": {},
   "source": [
    "Write a python program to create a function and print a list where the values are\n",
    "square of numbers between 1 and 30."
   ]
  },
  {
   "cell_type": "code",
   "execution_count": 19,
   "id": "5093e26a",
   "metadata": {},
   "outputs": [
    {
     "name": "stdout",
     "output_type": "stream",
     "text": [
      "4\n",
      "9\n",
      "16\n",
      "25\n",
      "36\n",
      "49\n",
      "64\n",
      "81\n",
      "100\n"
     ]
    }
   ],
   "source": [
    "def square(li):\n",
    "    for i in li:\n",
    "        if i == 1 or i == 30:\n",
    "            continue\n",
    "        else:\n",
    "                print(i**2)\n",
    "a = [1,2,3,4,5,6,7,8,9,10,30]\n",
    "square(a)"
   ]
  },
  {
   "cell_type": "markdown",
   "id": "fb12401b",
   "metadata": {},
   "source": [
    "Write a python program to access a function inside a function."
   ]
  },
  {
   "cell_type": "code",
   "execution_count": 20,
   "id": "808271e2",
   "metadata": {},
   "outputs": [
    {
     "ename": "TypeError",
     "evalue": "unsupported operand type(s) for +: 'int' and 'NoneType'",
     "output_type": "error",
     "traceback": [
      "\u001b[0;31m---------------------------------------------------------------------------\u001b[0m",
      "\u001b[0;31mTypeError\u001b[0m                                 Traceback (most recent call last)",
      "Input \u001b[0;32mIn [20]\u001b[0m, in \u001b[0;36m<cell line: 5>\u001b[0;34m()\u001b[0m\n\u001b[1;32m      3\u001b[0m         \u001b[38;5;28;01mreturn\u001b[39;00m \u001b[38;5;241m1\u001b[39m;\n\u001b[1;32m      4\u001b[0m     s \u001b[38;5;241m=\u001b[39m n\u001b[38;5;241m+\u001b[39mf1(n\u001b[38;5;241m-\u001b[39m\u001b[38;5;241m1\u001b[39m)\n\u001b[0;32m----> 5\u001b[0m r\u001b[38;5;241m=\u001b[39m\u001b[43mf1\u001b[49m\u001b[43m(\u001b[49m\u001b[38;5;241;43m3\u001b[39;49m\u001b[43m)\u001b[49m\n\u001b[1;32m      6\u001b[0m \u001b[38;5;28mprint\u001b[39m(r)\n",
      "Input \u001b[0;32mIn [20]\u001b[0m, in \u001b[0;36mf1\u001b[0;34m(n)\u001b[0m\n\u001b[1;32m      2\u001b[0m \u001b[38;5;28;01mif\u001b[39;00m n \u001b[38;5;241m==\u001b[39m \u001b[38;5;241m1\u001b[39m:\n\u001b[1;32m      3\u001b[0m     \u001b[38;5;28;01mreturn\u001b[39;00m \u001b[38;5;241m1\u001b[39m;\n\u001b[0;32m----> 4\u001b[0m s \u001b[38;5;241m=\u001b[39m \u001b[43mn\u001b[49m\u001b[38;5;241;43m+\u001b[39;49m\u001b[43mf1\u001b[49m\u001b[43m(\u001b[49m\u001b[43mn\u001b[49m\u001b[38;5;241;43m-\u001b[39;49m\u001b[38;5;241;43m1\u001b[39;49m\u001b[43m)\u001b[49m\n",
      "\u001b[0;31mTypeError\u001b[0m: unsupported operand type(s) for +: 'int' and 'NoneType'"
     ]
    }
   ],
   "source": [
    "def f1(n):\n",
    "    if n == 1:\n",
    "        return 1;\n",
    "    s = n+f1(n-1)\n",
    "r=f1(3)\n",
    "print(r)"
   ]
  },
  {
   "cell_type": "markdown",
   "id": "236d09d7",
   "metadata": {},
   "source": [
    "Write a python program to create a function that accepts a string and calculate the\n",
    "number of upper case letters and lower case letters."
   ]
  },
  {
   "cell_type": "code",
   "execution_count": 21,
   "id": "2e4021e1",
   "metadata": {},
   "outputs": [
    {
     "name": "stdout",
     "output_type": "stream",
     "text": [
      "Lowercaes count 11\n",
      "Uppercase count 2\n"
     ]
    }
   ],
   "source": [
    "def upplow(string_):\n",
    "    count_up = 0\n",
    "    count_low = 0\n",
    "    for i in string_:\n",
    "        if 65<=ord(i)<=90:\n",
    "            count_up += 1\n",
    "        else:\n",
    "            count_low += 1\n",
    "    print(\"Lowercaes count\", count_low)\n",
    "    print(\"Uppercase count\", count_up)\n",
    "stri = \"ShreyashGupta\"\n",
    "upplow(stri)"
   ]
  },
  {
   "cell_type": "markdown",
   "id": "32c2f0c9",
   "metadata": {},
   "source": [
    "Write a python program to create a function to check whether a string is a pangram\n",
    "or not."
   ]
  },
  {
   "cell_type": "code",
   "execution_count": 23,
   "id": "5d25aec3",
   "metadata": {},
   "outputs": [
    {
     "name": "stdout",
     "output_type": "stream",
     "text": [
      "No\n"
     ]
    }
   ],
   "source": [
    "import string\n",
    "alphabet = set(string.ascii_lowercase)\n",
    "def ispangram(string_):\n",
    "    return set(string_.lower()) >= alphabet\n",
    "string_ = \"Shreyash\"\n",
    "if(ispangram(string_) == True):\n",
    "    print(\"Yes\")\n",
    "else:\n",
    "    print(\"No\")"
   ]
  },
  {
   "cell_type": "code",
   "execution_count": 25,
   "id": "b31b0d1c",
   "metadata": {},
   "outputs": [
    {
     "name": "stdout",
     "output_type": "stream",
     "text": [
      "The strings are anagrams.\n"
     ]
    }
   ],
   "source": [
    "def check(str1, str2):\n",
    "     \n",
    "    if(sorted(str1)== sorted(s2)):\n",
    "        print(\"The strings are anagrams.\")\n",
    "    else:\n",
    "        print(\"The strings aren't anagrams.\")        \n",
    "         \n",
    "# driver code \n",
    "s1 =\"bread\"\n",
    "s2 =\"beard\"\n",
    "check(s1, s2)"
   ]
  },
  {
   "cell_type": "code",
   "execution_count": null,
   "id": "0ab62fab",
   "metadata": {},
   "outputs": [],
   "source": []
  }
 ],
 "metadata": {
  "kernelspec": {
   "display_name": "Python 3 (ipykernel)",
   "language": "python",
   "name": "python3"
  },
  "language_info": {
   "codemirror_mode": {
    "name": "ipython",
    "version": 3
   },
   "file_extension": ".py",
   "mimetype": "text/x-python",
   "name": "python",
   "nbconvert_exporter": "python",
   "pygments_lexer": "ipython3",
   "version": "3.10.5"
  }
 },
 "nbformat": 4,
 "nbformat_minor": 5
}
