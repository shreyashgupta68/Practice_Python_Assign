{
 "cells": [
  {
   "cell_type": "markdown",
   "id": "3373e9d4",
   "metadata": {},
   "source": [
    "Write a python program to create a user class with 3 properties : name, age, email."
   ]
  },
  {
   "cell_type": "code",
   "execution_count": 3,
   "id": "345b0f74",
   "metadata": {},
   "outputs": [],
   "source": [
    "class User:\n",
    "    def __init__(self, name, age, email):\n",
    "        self.name = name\n",
    "        self.age = age\n",
    "        self.email = email"
   ]
  },
  {
   "cell_type": "markdown",
   "id": "52b7a5ab",
   "metadata": {},
   "source": [
    "Write a python program to create a user class with a method to greet the user."
   ]
  },
  {
   "cell_type": "code",
   "execution_count": 4,
   "id": "87606f54",
   "metadata": {},
   "outputs": [],
   "source": [
    "class User:\n",
    "    def __init__(self, name, age, email):\n",
    "        self.name = name\n",
    "        self.age = age\n",
    "        self.email = email\n",
    "\n",
    "    def greet(self):\n",
    "        print(f\"Hello, {self.name}!\")\n",
    "\n"
   ]
  },
  {
   "cell_type": "markdown",
   "id": "7abba197",
   "metadata": {},
   "source": [
    "Write a python program to create 2 objects of the user class and assign different\n",
    "values."
   ]
  },
  {
   "cell_type": "code",
   "execution_count": 5,
   "id": "f2ef10cd",
   "metadata": {},
   "outputs": [
    {
     "name": "stdout",
     "output_type": "stream",
     "text": [
      "Hello, Shreyash!\n"
     ]
    }
   ],
   "source": [
    "user1 = User(\"Shreyash\",24,\"ABC\")\n",
    "user2 = User(\"Shreya\",20,\"DEF\")\n",
    "user1.greet()"
   ]
  },
  {
   "cell_type": "code",
   "execution_count": 7,
   "id": "002e8b5f",
   "metadata": {},
   "outputs": [
    {
     "name": "stdout",
     "output_type": "stream",
     "text": [
      "User 2: Shreya, 20, DEF\n",
      "Hello, Shreya!\n"
     ]
    }
   ],
   "source": [
    "print(f\"User 2: {user2.name}, {user2.age}, {user2.email}\")\n",
    "user2.greet()"
   ]
  },
  {
   "cell_type": "markdown",
   "id": "11574487",
   "metadata": {},
   "source": [
    "Write a python program to init default values for user object using __init__ method."
   ]
  },
  {
   "cell_type": "code",
   "execution_count": 8,
   "id": "153c92fe",
   "metadata": {},
   "outputs": [
    {
     "name": "stdout",
     "output_type": "stream",
     "text": [
      "User 1: Unknown, 0, \n",
      "Hello, Unknown!\n",
      "User 2: John Doe, 30, johndoe@example.com\n",
      "Hello, John Doe!\n"
     ]
    }
   ],
   "source": [
    "class User:\n",
    "    def __init__(self, name=\"Unknown\", age=0, email=\"\"):\n",
    "        self.name = name\n",
    "        self.age = age\n",
    "        self.email = email\n",
    "\n",
    "    def greet(self):\n",
    "        print(f\"Hello, {self.name}!\")\n",
    "\n",
    "# create a user instance with default values\n",
    "user1 = User()\n",
    "\n",
    "# create a user instance with specific values\n",
    "user2 = User(\"John Doe\", 30, \"johndoe@example.com\")\n",
    "\n",
    "# print out the user details and greet them\n",
    "print(f\"User 1: {user1.name}, {user1.age}, {user1.email}\")\n",
    "user1.greet()\n",
    "\n",
    "print(f\"User 2: {user2.name}, {user2.age}, {user2.email}\")\n",
    "user2.greet()\n"
   ]
  },
  {
   "cell_type": "markdown",
   "id": "638a91b2",
   "metadata": {},
   "source": [
    "Write a python program to delete the age property of the user."
   ]
  },
  {
   "cell_type": "code",
   "execution_count": 9,
   "id": "3882dd22",
   "metadata": {},
   "outputs": [
    {
     "name": "stdout",
     "output_type": "stream",
     "text": [
      "Before deleting age: John Doe, 30, johndoe@example.com\n",
      "After deleting age: John Doe, johndoe@example.com\n",
      "Hello, John Doe!\n"
     ]
    }
   ],
   "source": [
    "class User:\n",
    "    def __init__(self, name, age, email):\n",
    "        self.name = name\n",
    "        self.age = age\n",
    "        self.email = email\n",
    "\n",
    "    def greet(self):\n",
    "        print(f\"Hello, {self.name}!\")\n",
    "\n",
    "# create a user instance\n",
    "user = User(\"John Doe\", 30, \"johndoe@example.com\")\n",
    "\n",
    "# print out the user details before deleting age\n",
    "print(f\"Before deleting age: {user.name}, {user.age}, {user.email}\")\n",
    "\n",
    "# delete the age property\n",
    "del user.age\n",
    "\n",
    "# print out the user details after deleting age\n",
    "print(f\"After deleting age: {user.name}, {user.email}\")\n",
    "\n",
    "# try calling the greet method (will still work without age property)\n",
    "user.greet()\n"
   ]
  },
  {
   "cell_type": "markdown",
   "id": "3ed3d7fa",
   "metadata": {},
   "source": [
    "Write a python program to create 3 user objects and find the youngest of all."
   ]
  },
  {
   "cell_type": "code",
   "execution_count": 10,
   "id": "fba830f0",
   "metadata": {},
   "outputs": [
    {
     "name": "stdout",
     "output_type": "stream",
     "text": [
      "Youngest User: Charlie, 20, charlie@example.com\n"
     ]
    }
   ],
   "source": [
    "class User:\n",
    "    def __init__(self, name, age, email):\n",
    "        self.name = name\n",
    "        self.age = age\n",
    "        self.email = email\n",
    "\n",
    "    def greet(self):\n",
    "        print(f\"Hello, {self.name}!\")\n",
    "\n",
    "# create 3 user instances\n",
    "user1 = User(\"Alice\", 25, \"alice@example.com\")\n",
    "user2 = User(\"Bob\", 30, \"bob@example.com\")\n",
    "user3 = User(\"Charlie\", 20, \"charlie@example.com\")\n",
    "\n",
    "# find the youngest user\n",
    "youngest_user = min([user1, user2, user3], key=lambda user: user.age)\n",
    "\n",
    "# print out the youngest user details\n",
    "print(f\"Youngest User: {youngest_user.name}, {youngest_user.age}, {youngest_user.email}\")\n"
   ]
  },
  {
   "cell_type": "markdown",
   "id": "6b05be1d",
   "metadata": {},
   "source": [
    "Write a python program to create a Laptop class with 4 attributes (brand, ram, cpu,\n",
    "hdd) and 2 methods (showConfig() to print the values, __init__() to initialize the\n",
    "values)."
   ]
  },
  {
   "cell_type": "code",
   "execution_count": 11,
   "id": "9c476937",
   "metadata": {},
   "outputs": [
    {
     "name": "stdout",
     "output_type": "stream",
     "text": [
      "Brand: Dell\n",
      "RAM: 8 GB\n",
      "CPU: Intel Core i5\n",
      "HDD: 512 GB\n"
     ]
    }
   ],
   "source": [
    "class Laptop:\n",
    "    def __init__(self, brand, ram, cpu, hdd):\n",
    "        self.brand = brand\n",
    "        self.ram = ram\n",
    "        self.cpu = cpu\n",
    "        self.hdd = hdd\n",
    "\n",
    "    def showConfig(self):\n",
    "        print(f\"Brand: {self.brand}\")\n",
    "        print(f\"RAM: {self.ram} GB\")\n",
    "        print(f\"CPU: {self.cpu}\")\n",
    "        print(f\"HDD: {self.hdd} GB\")\n",
    "\n",
    "# create a laptop instance\n",
    "laptop = Laptop(\"Dell\", 8, \"Intel Core i5\", 512)\n",
    "\n",
    "# show the laptop configuration\n",
    "laptop.showConfig()\n"
   ]
  },
  {
   "cell_type": "markdown",
   "id": "d9b12001",
   "metadata": {},
   "source": [
    "WRT 7th Question, create 3 Laptop objects and add them to the list in the sorted\n",
    "order based on the ram size."
   ]
  },
  {
   "cell_type": "code",
   "execution_count": 12,
   "id": "6c5ce7b6",
   "metadata": {},
   "outputs": [
    {
     "name": "stdout",
     "output_type": "stream",
     "text": [
      "Brand: Lenovo\n",
      "RAM: 4 GB\n",
      "CPU: AMD Ryzen 3\n",
      "HDD: 256 GB\n",
      "\n",
      "Brand: Dell\n",
      "RAM: 8 GB\n",
      "CPU: Intel Core i5\n",
      "HDD: 512 GB\n",
      "\n",
      "Brand: HP\n",
      "RAM: 16 GB\n",
      "CPU: Intel Core i7\n",
      "HDD: 1024 GB\n",
      "\n"
     ]
    }
   ],
   "source": [
    "laptop1 = Laptop(\"Dell\", 8, \"Intel Core i5\", 512)\n",
    "laptop2 = Laptop(\"HP\", 16, \"Intel Core i7\", 1024)\n",
    "laptop3 = Laptop(\"Lenovo\", 4, \"AMD Ryzen 3\", 256)\n",
    "\n",
    "# add the laptops to a list\n",
    "laptops = [laptop1, laptop2, laptop3]\n",
    "\n",
    "# sort the list by ascending order of RAM size\n",
    "laptops_sorted_by_ram = sorted(laptops, key=lambda laptop: laptop.ram)\n",
    "\n",
    "# print out the sorted list of laptops\n",
    "for laptop in laptops_sorted_by_ram:\n",
    "    laptop.showConfig()\n",
    "    print()"
   ]
  },
  {
   "cell_type": "markdown",
   "id": "e525eec4",
   "metadata": {},
   "source": [
    "Write a python program to create a School class and 3 instance variables and 1 class\n",
    "variable."
   ]
  },
  {
   "cell_type": "code",
   "execution_count": 13,
   "id": "1405e34e",
   "metadata": {},
   "outputs": [
    {
     "name": "stdout",
     "output_type": "stream",
     "text": [
      "ABC High School New York 500\n",
      "XYZ Academy Los Angeles 700\n",
      "PQR International School London 900\n",
      "Total students: 2100\n"
     ]
    }
   ],
   "source": [
    "class School:\n",
    "    # class variable\n",
    "    total_students = 0\n",
    "\n",
    "    def __init__(self, name, location, num_students):\n",
    "        # instance variables\n",
    "        self.name = name\n",
    "        self.location = location\n",
    "        self.num_students = num_students\n",
    "\n",
    "        # increment the class variable\n",
    "        School.total_students += num_students\n",
    "\n",
    "# create some School instances\n",
    "school1 = School(\"ABC High School\", \"New York\", 500)\n",
    "school2 = School(\"XYZ Academy\", \"Los Angeles\", 700)\n",
    "school3 = School(\"PQR International School\", \"London\", 900)\n",
    "\n",
    "# print out the instance variables and class variable\n",
    "print(school1.name, school1.location, school1.num_students)  # ABC High School New York 500\n",
    "print(school2.name, school2.location, school2.num_students)  # XYZ Academy Los Angeles 700\n",
    "print(school3.name, school3.location, school3.num_students)  # PQR International School London 900\n",
    "\n",
    "print(\"Total students:\", School.total_students)  # Total students: 2100\n"
   ]
  },
  {
   "cell_type": "code",
   "execution_count": 14,
   "id": "8b3870d1",
   "metadata": {},
   "outputs": [
    {
     "name": "stdout",
     "output_type": "stream",
     "text": [
      "Employee ID: E001\n",
      "Employee Name: John Doe\n",
      "Employee Salary: 50000\n",
      "Enter employee ID: 6\n",
      "Enter employee name: yhn\n",
      "Enter employee salary: 7890\n",
      "Employee ID: 6\n",
      "Employee Name: yhn\n",
      "Employee Salary: 7890.0\n"
     ]
    }
   ],
   "source": [
    "class Employee:\n",
    "    def __init__(self, empid, name, salary):\n",
    "        self.empid = empid\n",
    "        self.name = name\n",
    "        self.salary = salary\n",
    "\n",
    "    def input_fields(self):\n",
    "        self.empid = input(\"Enter employee ID: \")\n",
    "        self.name = input(\"Enter employee name: \")\n",
    "        self.salary = float(input(\"Enter employee salary: \"))\n",
    "\n",
    "    def display_fields(self):\n",
    "        print(\"Employee ID:\", self.empid)\n",
    "        print(\"Employee Name:\", self.name)\n",
    "        print(\"Employee Salary:\", self.salary)\n",
    "\n",
    "# create an Employee instance\n",
    "emp = Employee(\"E001\", \"John Doe\", 50000)\n",
    "\n",
    "# display initial values\n",
    "emp.display_fields()\n",
    "\n",
    "# input new values\n",
    "emp.input_fields()\n",
    "\n",
    "# display updated values\n",
    "emp.display_fields()\n"
   ]
  },
  {
   "cell_type": "code",
   "execution_count": null,
   "id": "ec62ae1e",
   "metadata": {},
   "outputs": [],
   "source": []
  }
 ],
 "metadata": {
  "kernelspec": {
   "display_name": "Python 3 (ipykernel)",
   "language": "python",
   "name": "python3"
  },
  "language_info": {
   "codemirror_mode": {
    "name": "ipython",
    "version": 3
   },
   "file_extension": ".py",
   "mimetype": "text/x-python",
   "name": "python",
   "nbconvert_exporter": "python",
   "pygments_lexer": "ipython3",
   "version": "3.10.5"
  }
 },
 "nbformat": 4,
 "nbformat_minor": 5
}
